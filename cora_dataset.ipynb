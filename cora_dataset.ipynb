{
 "cells": [
  {
   "cell_type": "code",
   "execution_count": 1,
   "metadata": {},
   "outputs": [],
   "source": [
    "from torch_geometric.datasets import Planetoid"
   ]
  },
  {
   "cell_type": "code",
   "execution_count": 2,
   "metadata": {},
   "outputs": [
    {
     "name": "stderr",
     "output_type": "stream",
     "text": [
      "Downloading https://github.com/kimiyoung/planetoid/raw/master/data/ind.cora.x\n",
      "Downloading https://github.com/kimiyoung/planetoid/raw/master/data/ind.cora.tx\n",
      "Downloading https://github.com/kimiyoung/planetoid/raw/master/data/ind.cora.allx\n",
      "Downloading https://github.com/kimiyoung/planetoid/raw/master/data/ind.cora.y\n",
      "Downloading https://github.com/kimiyoung/planetoid/raw/master/data/ind.cora.ty\n",
      "Downloading https://github.com/kimiyoung/planetoid/raw/master/data/ind.cora.ally\n",
      "Downloading https://github.com/kimiyoung/planetoid/raw/master/data/ind.cora.graph\n",
      "Downloading https://github.com/kimiyoung/planetoid/raw/master/data/ind.cora.test.index\n",
      "Processing...\n",
      "Done!\n"
     ]
    }
   ],
   "source": [
    "dataset = Planetoid(root='./data/Cora', name='Cora')"
   ]
  },
  {
   "cell_type": "code",
   "execution_count": 10,
   "metadata": {},
   "outputs": [
    {
     "name": "stdout",
     "output_type": "stream",
     "text": [
      "Size                : 1\n",
      "# of classes        : 7\n",
      "# of node features  : 1433\n",
      "# of edge attributes: 0\n",
      "Planetoid (#graphs=1):\n",
      "+------------+----------+----------+\n",
      "|            |   #nodes |   #edges |\n",
      "|------------+----------+----------|\n",
      "| mean       |     2708 |    10556 |\n",
      "| std        |      nan |      nan |\n",
      "| min        |     2708 |    10556 |\n",
      "| quantile25 |     2708 |    10556 |\n",
      "| median     |     2708 |    10556 |\n",
      "| quantile75 |     2708 |    10556 |\n",
      "| max        |     2708 |    10556 |\n",
      "+------------+----------+----------+\n"
     ]
    },
    {
     "data": {
      "text/plain": [
       "1433"
      ]
     },
     "execution_count": 10,
     "metadata": {},
     "output_type": "execute_result"
    }
   ],
   "source": [
    "print(f'Size                : {len(dataset)}')\n",
    "print(f'# of classes        : {dataset.num_classes}')\n",
    "print(f'# of node features  : {dataset.num_node_features}')\n",
    "print(f'# of edge attributes: {dataset.num_edge_features}')\n",
    "dataset.print_summary()"
   ]
  },
  {
   "cell_type": "markdown",
   "metadata": {},
   "source": [
    "## CORA dataset\n",
    "\n",
    "Nodes: 2708 scientific publications\n",
    "Features: 1433 unique words in the abstract\n",
    "Edges: Citations\n",
    "\n",
    "Classes:\n",
    "1. Case_Based\n",
    "1. Genetic_Algorithms\n",
    "1. Neural_Networks\n",
    "1. Probabilistic_Methods\n",
    "1. Reinforcement_Learning\n",
    "1. Rule_Learning\n",
    "1. Theory"
   ]
  },
  {
   "cell_type": "code",
   "execution_count": 11,
   "metadata": {},
   "outputs": [],
   "source": [
    "# Cora is 1 single graph\n",
    "data = dataset[0]"
   ]
  },
  {
   "cell_type": "code",
   "execution_count": 12,
   "metadata": {},
   "outputs": [
    {
     "name": "stdout",
     "output_type": "stream",
     "text": [
      "# of nodes: 2708\n",
      "# of edges: 10556\n",
      "# of edge feature: 0\n",
      "Has isolated nodes: False\n",
      "Has self loops: False\n",
      "Is directed: False\n"
     ]
    }
   ],
   "source": [
    "print(f'# of nodes: {data.num_nodes}')\n",
    "print(f'# of edges: {data.num_edges}')\n",
    "print(f'# of edge feature: {data.num_edge_features}')\n",
    "print(f'Has isolated nodes: {data.has_isolated_nodes()}')\n",
    "print(f'Has self loops: {data.has_self_loops()}') # E.g., A-A is a self-loop\n",
    "print(f'Is directed: {data.is_directed()}')"
   ]
  },
  {
   "cell_type": "code",
   "execution_count": 15,
   "metadata": {},
   "outputs": [
    {
     "name": "stdout",
     "output_type": "stream",
     "text": [
      "Train:      140\n",
      "Validation: 500\n",
      "Test:       1000\n"
     ]
    }
   ],
   "source": [
    "# There are built-in split for train-val-test sets:\n",
    "print(f'Train:      {data.train_mask.sum().item()}')\n",
    "print(f'Validation: {data.val_mask.sum().item()}')\n",
    "print(f'Test:       {data.test_mask.sum().item()}')"
   ]
  },
  {
   "cell_type": "code",
   "execution_count": null,
   "metadata": {},
   "outputs": [],
   "source": []
  }
 ],
 "metadata": {
  "kernelspec": {
   "display_name": "venv",
   "language": "python",
   "name": "python3"
  },
  "language_info": {
   "codemirror_mode": {
    "name": "ipython",
    "version": 3
   },
   "file_extension": ".py",
   "mimetype": "text/x-python",
   "name": "python",
   "nbconvert_exporter": "python",
   "pygments_lexer": "ipython3",
   "version": "3.9.17"
  },
  "orig_nbformat": 4
 },
 "nbformat": 4,
 "nbformat_minor": 2
}
