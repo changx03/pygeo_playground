{
 "cells": [
  {
   "cell_type": "markdown",
   "metadata": {},
   "source": [
    "# Demo for training TransE model on the FB15k_237 dataset\n",
    "\n",
    "Code is based on [PyTorch Geometric Example](https://github.com/pyg-team/pytorch_geometric/blob/master/examples/kge_fb15k_237.py)"
   ]
  },
  {
   "cell_type": "code",
   "execution_count": 1,
   "metadata": {},
   "outputs": [],
   "source": [
    "from torch_geometric.datasets import FB15k_237\n",
    "from torch_geometric.data import Dataset"
   ]
  },
  {
   "cell_type": "code",
   "execution_count": 2,
   "metadata": {},
   "outputs": [],
   "source": [
    "data_train = FB15k_237('./data/fb15k', split='train')[0]\n",
    "data_val = FB15k_237('./data/fb15k', split='val')[0]\n",
    "data_test = FB15k_237('./data/fb15k', split='test')[0]"
   ]
  },
  {
   "cell_type": "code",
   "execution_count": 3,
   "metadata": {},
   "outputs": [
    {
     "name": "stdout",
     "output_type": "stream",
     "text": [
      "# of graph:    3\n",
      "# of nodes:    14541\n",
      "# of edges:    272115\n",
      "# of node features: 0\n",
      "# of edge features:    0\n",
      "# of edge types: 237\n"
     ]
    }
   ],
   "source": [
    "print(f'# of graph:    {len(data_train)}')\n",
    "print(f'# of nodes:    {data_train.num_nodes}')\n",
    "print(f'# of edges:    {data_train.num_edges}')\n",
    "print(f'# of node features: {data_train.num_node_features}')\n",
    "print(f'# of edge features:    {data_train.num_edge_features}')\n",
    "print(f'# of edge types: {data_train.num_edge_types}')"
   ]
  },
  {
   "cell_type": "code",
   "execution_count": 4,
   "metadata": {},
   "outputs": [],
   "source": [
    "num_nodes = data_train.num_nodes\n",
    "num_relations = data_train.num_edge_types\n",
    "hidden_channels = 50"
   ]
  },
  {
   "cell_type": "code",
   "execution_count": 5,
   "metadata": {},
   "outputs": [],
   "source": [
    "from torch_geometric.nn import TransE\n",
    "import torch\n",
    "import torch.optim as optim"
   ]
  },
  {
   "cell_type": "code",
   "execution_count": 6,
   "metadata": {},
   "outputs": [
    {
     "name": "stdout",
     "output_type": "stream",
     "text": [
      "cuda:0\n"
     ]
    }
   ],
   "source": [
    "device = torch.device('cuda:0' if torch.cuda.is_available() else 'cpu')\n",
    "print(device)"
   ]
  },
  {
   "cell_type": "code",
   "execution_count": 7,
   "metadata": {},
   "outputs": [],
   "source": [
    "model = TransE(\n",
    "    num_nodes=num_nodes,\n",
    "    num_relations=num_relations,\n",
    "    hidden_channels=hidden_channels,\n",
    ")"
   ]
  },
  {
   "cell_type": "code",
   "execution_count": 8,
   "metadata": {},
   "outputs": [],
   "source": [
    "optimizer = optim.Adam(model.parameters(), lr=0.01)"
   ]
  },
  {
   "cell_type": "code",
   "execution_count": 9,
   "metadata": {},
   "outputs": [],
   "source": [
    "from torch_geometric.nn.kge.loader import KGTripletLoader\n",
    "from torch_geometric.nn.kge import KGEModel"
   ]
  },
  {
   "cell_type": "code",
   "execution_count": 10,
   "metadata": {},
   "outputs": [],
   "source": [
    "loader_train = KGTripletLoader(\n",
    "    head_index=data_train.edge_index[0],\n",
    "    rel_type=data_train.edge_type,\n",
    "    tail_index=data_train.edge_index[1],\n",
    "    batch_size=2000,\n",
    "    shuffle=True,\n",
    ")\n"
   ]
  },
  {
   "cell_type": "code",
   "execution_count": 11,
   "metadata": {},
   "outputs": [],
   "source": [
    "def train(model: KGEModel, loader: KGTripletLoader):\n",
    "    total_loss = 0\n",
    "    total_examples = 0\n",
    "\n",
    "    model.train()\n",
    "    for triple in loader:\n",
    "        head_index, rel_type, tail_index = triple\n",
    "        head_index = head_index.to(device)\n",
    "        rel_type = rel_type.to(device)\n",
    "        tail_index = tail_index.to(device)\n",
    "\n",
    "        optimizer.zero_grad()\n",
    "        loss = model.loss(head_index, rel_type, tail_index)\n",
    "        loss.backward()\n",
    "        optimizer.step()\n",
    "\n",
    "        total_loss += float(loss) * head_index.numel()\n",
    "        total_examples += head_index.numel()\n",
    "        \n",
    "    return total_loss / total_examples"
   ]
  },
  {
   "cell_type": "code",
   "execution_count": 12,
   "metadata": {},
   "outputs": [],
   "source": [
    "@torch.no_grad()\n",
    "def test(model: KGEModel, dataset: Dataset):\n",
    "    model.eval()\n",
    "    dataset = dataset.to(device)\n",
    "    mean_rank, hits_at_k = model.test(\n",
    "        head_index=dataset.edge_index[0],\n",
    "        rel_type=dataset.edge_type,\n",
    "        tail_index=dataset.edge_index[1],\n",
    "        batch_size=10000,\n",
    "        k=10,\n",
    "    )\n",
    "    return mean_rank, hits_at_k\n"
   ]
  },
  {
   "cell_type": "code",
   "execution_count": 13,
   "metadata": {},
   "outputs": [
    {
     "name": "stdout",
     "output_type": "stream",
     "text": [
      "Epoch: 001, Loss: 0.8016\n",
      "Epoch: 011, Loss: 0.1819\n",
      "Epoch: 021, Loss: 0.1415\n"
     ]
    },
    {
     "name": "stderr",
     "output_type": "stream",
     "text": [
      "100%|██████████| 17535/17535 [00:07<00:00, 2333.67it/s]\n"
     ]
    },
    {
     "name": "stdout",
     "output_type": "stream",
     "text": [
      "Epoch: 025, Val Mean Rank: 384.65, Val Hits@10: 0.3689\n",
      "Epoch: 031, Loss: 0.1258\n",
      "Epoch: 041, Loss: 0.1164\n"
     ]
    },
    {
     "name": "stderr",
     "output_type": "stream",
     "text": [
      "100%|██████████| 17535/17535 [00:06<00:00, 2519.45it/s]\n"
     ]
    },
    {
     "name": "stdout",
     "output_type": "stream",
     "text": [
      "Epoch: 050, Val Mean Rank: 335.48, Val Hits@10: 0.3617\n",
      "Epoch: 051, Loss: 0.1101\n",
      "Epoch: 061, Loss: 0.1058\n",
      "Epoch: 071, Loss: 0.1010\n"
     ]
    },
    {
     "name": "stderr",
     "output_type": "stream",
     "text": [
      "100%|██████████| 17535/17535 [00:07<00:00, 2418.79it/s]\n"
     ]
    },
    {
     "name": "stdout",
     "output_type": "stream",
     "text": [
      "Epoch: 075, Val Mean Rank: 309.65, Val Hits@10: 0.3652\n",
      "Epoch: 081, Loss: 0.0979\n",
      "Epoch: 091, Loss: 0.0954\n"
     ]
    },
    {
     "name": "stderr",
     "output_type": "stream",
     "text": [
      "100%|██████████| 17535/17535 [00:07<00:00, 2399.59it/s]\n"
     ]
    },
    {
     "name": "stdout",
     "output_type": "stream",
     "text": [
      "Epoch: 100, Val Mean Rank: 299.04, Val Hits@10: 0.3667\n",
      "Epoch: 101, Loss: 0.0942\n",
      "Epoch: 111, Loss: 0.0926\n",
      "Epoch: 121, Loss: 0.0897\n"
     ]
    },
    {
     "name": "stderr",
     "output_type": "stream",
     "text": [
      "100%|██████████| 17535/17535 [00:07<00:00, 2485.48it/s]\n"
     ]
    },
    {
     "name": "stdout",
     "output_type": "stream",
     "text": [
      "Epoch: 125, Val Mean Rank: 286.63, Val Hits@10: 0.3710\n",
      "Epoch: 131, Loss: 0.0897\n",
      "Epoch: 141, Loss: 0.0886\n"
     ]
    },
    {
     "name": "stderr",
     "output_type": "stream",
     "text": [
      "100%|██████████| 17535/17535 [00:07<00:00, 2396.28it/s]\n"
     ]
    },
    {
     "name": "stdout",
     "output_type": "stream",
     "text": [
      "Epoch: 150, Val Mean Rank: 280.67, Val Hits@10: 0.3629\n",
      "Epoch: 151, Loss: 0.0873\n",
      "Epoch: 161, Loss: 0.0857\n",
      "Epoch: 171, Loss: 0.0855\n"
     ]
    },
    {
     "name": "stderr",
     "output_type": "stream",
     "text": [
      "100%|██████████| 17535/17535 [00:07<00:00, 2406.64it/s]\n"
     ]
    },
    {
     "name": "stdout",
     "output_type": "stream",
     "text": [
      "Epoch: 175, Val Mean Rank: 275.80, Val Hits@10: 0.3586\n",
      "Epoch: 181, Loss: 0.0846\n",
      "Epoch: 191, Loss: 0.0846\n"
     ]
    },
    {
     "name": "stderr",
     "output_type": "stream",
     "text": [
      "100%|██████████| 17535/17535 [00:07<00:00, 2370.66it/s]\n"
     ]
    },
    {
     "name": "stdout",
     "output_type": "stream",
     "text": [
      "Epoch: 200, Val Mean Rank: 274.89, Val Hits@10: 0.3697\n",
      "Epoch: 201, Loss: 0.0826\n",
      "Epoch: 211, Loss: 0.0831\n",
      "Epoch: 221, Loss: 0.0828\n"
     ]
    },
    {
     "name": "stderr",
     "output_type": "stream",
     "text": [
      "100%|██████████| 17535/17535 [00:07<00:00, 2391.87it/s]\n"
     ]
    },
    {
     "name": "stdout",
     "output_type": "stream",
     "text": [
      "Epoch: 225, Val Mean Rank: 268.58, Val Hits@10: 0.3587\n",
      "Epoch: 231, Loss: 0.0815\n",
      "Epoch: 241, Loss: 0.0812\n"
     ]
    },
    {
     "name": "stderr",
     "output_type": "stream",
     "text": [
      "100%|██████████| 17535/17535 [00:07<00:00, 2390.04it/s]\n"
     ]
    },
    {
     "name": "stdout",
     "output_type": "stream",
     "text": [
      "Epoch: 250, Val Mean Rank: 265.55, Val Hits@10: 0.3698\n",
      "Epoch: 251, Loss: 0.0805\n",
      "Epoch: 261, Loss: 0.0799\n",
      "Epoch: 271, Loss: 0.0803\n"
     ]
    },
    {
     "name": "stderr",
     "output_type": "stream",
     "text": [
      "100%|██████████| 17535/17535 [00:07<00:00, 2407.27it/s]\n"
     ]
    },
    {
     "name": "stdout",
     "output_type": "stream",
     "text": [
      "Epoch: 275, Val Mean Rank: 266.60, Val Hits@10: 0.3626\n",
      "Epoch: 281, Loss: 0.0800\n",
      "Epoch: 291, Loss: 0.0802\n"
     ]
    },
    {
     "name": "stderr",
     "output_type": "stream",
     "text": [
      "100%|██████████| 17535/17535 [00:07<00:00, 2429.14it/s]\n"
     ]
    },
    {
     "name": "stdout",
     "output_type": "stream",
     "text": [
      "Epoch: 300, Val Mean Rank: 261.46, Val Hits@10: 0.3575\n",
      "Epoch: 301, Loss: 0.0795\n",
      "Epoch: 311, Loss: 0.0797\n",
      "Epoch: 321, Loss: 0.0794\n"
     ]
    },
    {
     "name": "stderr",
     "output_type": "stream",
     "text": [
      "100%|██████████| 17535/17535 [00:07<00:00, 2410.94it/s]\n"
     ]
    },
    {
     "name": "stdout",
     "output_type": "stream",
     "text": [
      "Epoch: 325, Val Mean Rank: 259.91, Val Hits@10: 0.3725\n",
      "Epoch: 331, Loss: 0.0792\n",
      "Epoch: 341, Loss: 0.0776\n"
     ]
    },
    {
     "name": "stderr",
     "output_type": "stream",
     "text": [
      "100%|██████████| 17535/17535 [00:07<00:00, 2339.84it/s]\n"
     ]
    },
    {
     "name": "stdout",
     "output_type": "stream",
     "text": [
      "Epoch: 350, Val Mean Rank: 262.63, Val Hits@10: 0.3706\n",
      "Epoch: 351, Loss: 0.0775\n",
      "Epoch: 361, Loss: 0.0776\n",
      "Epoch: 371, Loss: 0.0777\n"
     ]
    },
    {
     "name": "stderr",
     "output_type": "stream",
     "text": [
      "100%|██████████| 17535/17535 [00:07<00:00, 2390.79it/s]\n"
     ]
    },
    {
     "name": "stdout",
     "output_type": "stream",
     "text": [
      "Epoch: 375, Val Mean Rank: 261.10, Val Hits@10: 0.3689\n",
      "Epoch: 381, Loss: 0.0775\n",
      "Epoch: 391, Loss: 0.0768\n"
     ]
    },
    {
     "name": "stderr",
     "output_type": "stream",
     "text": [
      "100%|██████████| 17535/17535 [00:06<00:00, 2525.08it/s]\n"
     ]
    },
    {
     "name": "stdout",
     "output_type": "stream",
     "text": [
      "Epoch: 400, Val Mean Rank: 256.16, Val Hits@10: 0.3726\n",
      "Epoch: 401, Loss: 0.0775\n",
      "Epoch: 411, Loss: 0.0763\n",
      "Epoch: 421, Loss: 0.0766\n"
     ]
    },
    {
     "name": "stderr",
     "output_type": "stream",
     "text": [
      "100%|██████████| 17535/17535 [00:07<00:00, 2414.93it/s]\n"
     ]
    },
    {
     "name": "stdout",
     "output_type": "stream",
     "text": [
      "Epoch: 425, Val Mean Rank: 257.94, Val Hits@10: 0.3624\n",
      "Epoch: 431, Loss: 0.0764\n",
      "Epoch: 441, Loss: 0.0762\n"
     ]
    },
    {
     "name": "stderr",
     "output_type": "stream",
     "text": [
      "100%|██████████| 17535/17535 [00:07<00:00, 2376.71it/s]\n"
     ]
    },
    {
     "name": "stdout",
     "output_type": "stream",
     "text": [
      "Epoch: 450, Val Mean Rank: 260.97, Val Hits@10: 0.3658\n",
      "Epoch: 451, Loss: 0.0768\n",
      "Epoch: 461, Loss: 0.0752\n",
      "Epoch: 471, Loss: 0.0765\n"
     ]
    },
    {
     "name": "stderr",
     "output_type": "stream",
     "text": [
      "100%|██████████| 17535/17535 [00:07<00:00, 2321.14it/s]\n"
     ]
    },
    {
     "name": "stdout",
     "output_type": "stream",
     "text": [
      "Epoch: 475, Val Mean Rank: 257.63, Val Hits@10: 0.3595\n",
      "Epoch: 481, Loss: 0.0764\n",
      "Epoch: 491, Loss: 0.0752\n"
     ]
    },
    {
     "name": "stderr",
     "output_type": "stream",
     "text": [
      "100%|██████████| 17535/17535 [00:07<00:00, 2365.09it/s]\n"
     ]
    },
    {
     "name": "stdout",
     "output_type": "stream",
     "text": [
      "Epoch: 500, Val Mean Rank: 255.19, Val Hits@10: 0.3694\n"
     ]
    },
    {
     "name": "stderr",
     "output_type": "stream",
     "text": [
      "100%|██████████| 20466/20466 [00:08<00:00, 2388.39it/s]"
     ]
    },
    {
     "name": "stdout",
     "output_type": "stream",
     "text": [
      "Test Mean Rank: 264.45, Test Hits@10: 0.3618\n"
     ]
    },
    {
     "name": "stderr",
     "output_type": "stream",
     "text": [
      "\n"
     ]
    }
   ],
   "source": [
    "model = model.to(device)\n",
    "for epoch in range(1, 501):\n",
    "    loss = train(model, loader_train)\n",
    "    if epoch % 10 == 1:\n",
    "        print(f'Epoch: {epoch:03d}, Loss: {loss:.4f}')\n",
    "    if epoch % 25 == 0:\n",
    "        rank, hits = test(model, data_val)\n",
    "        print(f'Epoch: {epoch:03d}, Val Mean Rank: {rank:.2f}, '\n",
    "              f'Val Hits@10: {hits:.4f}')\n",
    "\n",
    "rank, hits_at_10 = test(model, data_test)\n",
    "print(f'Test Mean Rank: {rank:.2f}, Test Hits@10: {hits_at_10:.4f}')"
   ]
  },
  {
   "cell_type": "code",
   "execution_count": null,
   "metadata": {},
   "outputs": [],
   "source": []
  }
 ],
 "metadata": {
  "kernelspec": {
   "display_name": "venv",
   "language": "python",
   "name": "python3"
  },
  "language_info": {
   "codemirror_mode": {
    "name": "ipython",
    "version": 3
   },
   "file_extension": ".py",
   "mimetype": "text/x-python",
   "name": "python",
   "nbconvert_exporter": "python",
   "pygments_lexer": "ipython3",
   "version": "3.9.18"
  },
  "orig_nbformat": 4
 },
 "nbformat": 4,
 "nbformat_minor": 2
}
