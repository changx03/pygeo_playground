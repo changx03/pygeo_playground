{
 "cells": [
  {
   "cell_type": "code",
   "execution_count": 1,
   "metadata": {},
   "outputs": [],
   "source": [
    "import torch\n",
    "from torch_geometric.data import Data\n",
    "from torch_geometric.datasets import TUDataset"
   ]
  },
  {
   "cell_type": "code",
   "execution_count": 3,
   "metadata": {},
   "outputs": [
    {
     "name": "stderr",
     "output_type": "stream",
     "text": [
      "Downloading https://www.chrsmrrs.com/graphkerneldatasets/ENZYMES.zip\n",
      "Extracting data/ENZYMES/ENZYMES/ENZYMES.zip\n",
      "Processing...\n",
      "Done!\n"
     ]
    }
   ],
   "source": [
    "dataset = TUDataset(root='./data/ENZYMES', name='ENZYMES')"
   ]
  },
  {
   "cell_type": "code",
   "execution_count": 8,
   "metadata": {},
   "outputs": [
    {
     "name": "stdout",
     "output_type": "stream",
     "text": [
      "Size                : 600\n",
      "# of classes        : 6\n",
      "# of node features  : 3\n",
      "# of node attributes: 18\n",
      "# of node labels    : 3\n",
      "# of edge features  : 0\n",
      "# of edge attributes: 0\n",
      "# of edge labels    : 0\n"
     ]
    }
   ],
   "source": [
    "# This dataset has 600 graphs\n",
    "print(f'Size                : {len(dataset)}')\n",
    "print(f'# of classes        : {dataset.num_classes}')\n",
    "print(f'# of node features  : {dataset.num_node_features}')\n",
    "print(f'# of node attributes: {dataset.num_node_attributes}')\n",
    "print(f'# of node labels    : {dataset.num_node_labels}')\n",
    "print(f'# of edge features  : {dataset.num_edge_attributes}')\n",
    "print(f'# of edge attributes: {dataset.num_edge_features}')\n",
    "print(f'# of edge labels    : {dataset.num_edge_labels}')"
   ]
  },
  {
   "cell_type": "code",
   "execution_count": 14,
   "metadata": {},
   "outputs": [
    {
     "name": "stdout",
     "output_type": "stream",
     "text": [
      "['x', 'edge_index', 'y']\n",
      "Is undirected: True\n"
     ]
    }
   ],
   "source": [
    "data = dataset[0]\n",
    "print(data.keys)\n",
    "print(f'Is undirected: {data.is_undirected()}')"
   ]
  },
  {
   "cell_type": "code",
   "execution_count": 17,
   "metadata": {},
   "outputs": [
    {
     "name": "stdout",
     "output_type": "stream",
     "text": [
      "train: 480, test: 120\n"
     ]
    }
   ],
   "source": [
    "num_train = int(0.8 * len(dataset))\n",
    "num_test = len(dataset) - num_train\n",
    "print(f'train: {num_train}, test: {num_test}')\n",
    "\n",
    "# Built-in shuffle function:\n",
    "dataset = dataset.shuffle()\n",
    "\n",
    "# Same as:\n",
    "# perm = torch.randperm(len(dataset))\n",
    "# dataset = dataset[perm]\n",
    "\n",
    "train_dataset = dataset[:num_train]\n",
    "train_dataset = dataset[num_train:]"
   ]
  },
  {
   "cell_type": "code",
   "execution_count": null,
   "metadata": {},
   "outputs": [],
   "source": []
  }
 ],
 "metadata": {
  "kernelspec": {
   "display_name": "venv",
   "language": "python",
   "name": "python3"
  },
  "language_info": {
   "codemirror_mode": {
    "name": "ipython",
    "version": 3
   },
   "file_extension": ".py",
   "mimetype": "text/x-python",
   "name": "python",
   "nbconvert_exporter": "python",
   "pygments_lexer": "ipython3",
   "version": "3.9.17"
  },
  "orig_nbformat": 4
 },
 "nbformat": 4,
 "nbformat_minor": 2
}
