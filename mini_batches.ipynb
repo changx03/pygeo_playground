{
 "cells": [
  {
   "cell_type": "code",
   "execution_count": 5,
   "metadata": {},
   "outputs": [],
   "source": [
    "from torch_geometric.datasets import TUDataset\n",
    "from torch_geometric.loader import DataLoader\n",
    "from torch_geometric.utils import scatter"
   ]
  },
  {
   "cell_type": "code",
   "execution_count": 2,
   "metadata": {},
   "outputs": [],
   "source": [
    "dataset = TUDataset(root='./data/ENZYMES', name='ENZYMES', use_node_attr=True)\n",
    "loader = DataLoader(dataset, batch_size=32, shuffle=True)"
   ]
  },
  {
   "cell_type": "code",
   "execution_count": 9,
   "metadata": {},
   "outputs": [
    {
     "name": "stdout",
     "output_type": "stream",
     "text": [
      "DataBatch(edge_index=[2, 4200], x=[1107, 21], y=[32], batch=[1107], ptr=[33])\n",
      "torch.Size([32, 21])\n",
      "DataBatch(edge_index=[2, 3916], x=[1027, 21], y=[32], batch=[1027], ptr=[33])\n",
      "torch.Size([32, 21])\n",
      "DataBatch(edge_index=[2, 3890], x=[975, 21], y=[32], batch=[975], ptr=[33])\n",
      "torch.Size([32, 21])\n",
      "DataBatch(edge_index=[2, 4042], x=[1074, 21], y=[32], batch=[1074], ptr=[33])\n",
      "torch.Size([32, 21])\n",
      "DataBatch(edge_index=[2, 4104], x=[1037, 21], y=[32], batch=[1037], ptr=[33])\n",
      "torch.Size([32, 21])\n",
      "DataBatch(edge_index=[2, 3794], x=[1041, 21], y=[32], batch=[1041], ptr=[33])\n",
      "torch.Size([32, 21])\n",
      "DataBatch(edge_index=[2, 3862], x=[991, 21], y=[32], batch=[991], ptr=[33])\n",
      "torch.Size([32, 21])\n",
      "DataBatch(edge_index=[2, 3640], x=[1037, 21], y=[32], batch=[1037], ptr=[33])\n",
      "torch.Size([32, 21])\n",
      "DataBatch(edge_index=[2, 4156], x=[1109, 21], y=[32], batch=[1109], ptr=[33])\n",
      "torch.Size([32, 21])\n",
      "DataBatch(edge_index=[2, 3748], x=[990, 21], y=[32], batch=[990], ptr=[33])\n",
      "torch.Size([32, 21])\n",
      "DataBatch(edge_index=[2, 3914], x=[1001, 21], y=[32], batch=[1001], ptr=[33])\n",
      "torch.Size([32, 21])\n",
      "DataBatch(edge_index=[2, 3848], x=[1017, 21], y=[32], batch=[1017], ptr=[33])\n",
      "torch.Size([32, 21])\n",
      "DataBatch(edge_index=[2, 3836], x=[947, 21], y=[32], batch=[947], ptr=[33])\n",
      "torch.Size([32, 21])\n",
      "DataBatch(edge_index=[2, 3910], x=[1049, 21], y=[32], batch=[1049], ptr=[33])\n",
      "torch.Size([32, 21])\n",
      "DataBatch(edge_index=[2, 4390], x=[1126, 21], y=[32], batch=[1126], ptr=[33])\n",
      "torch.Size([32, 21])\n",
      "DataBatch(edge_index=[2, 4182], x=[1153, 21], y=[32], batch=[1153], ptr=[33])\n",
      "torch.Size([32, 21])\n",
      "DataBatch(edge_index=[2, 3922], x=[1019, 21], y=[32], batch=[1019], ptr=[33])\n",
      "torch.Size([32, 21])\n",
      "DataBatch(edge_index=[2, 4054], x=[1074, 21], y=[32], batch=[1074], ptr=[33])\n",
      "torch.Size([32, 21])\n",
      "DataBatch(edge_index=[2, 3156], x=[806, 21], y=[24], batch=[806], ptr=[25])\n",
      "torch.Size([24, 21])\n"
     ]
    }
   ],
   "source": [
    "for batch in loader:\n",
    "    print(batch)\n",
    "    x = scatter(batch.x, batch.batch, dim=0, reduce='mean')\n",
    "    print(x.size())"
   ]
  },
  {
   "cell_type": "code",
   "execution_count": null,
   "metadata": {},
   "outputs": [],
   "source": []
  }
 ],
 "metadata": {
  "kernelspec": {
   "display_name": "venv",
   "language": "python",
   "name": "python3"
  },
  "language_info": {
   "codemirror_mode": {
    "name": "ipython",
    "version": 3
   },
   "file_extension": ".py",
   "mimetype": "text/x-python",
   "name": "python",
   "nbconvert_exporter": "python",
   "pygments_lexer": "ipython3",
   "version": "3.9.17"
  },
  "orig_nbformat": 4
 },
 "nbformat": 4,
 "nbformat_minor": 2
}
