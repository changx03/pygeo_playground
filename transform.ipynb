{
 "cells": [
  {
   "cell_type": "code",
   "execution_count": null,
   "metadata": {},
   "outputs": [],
   "source": [
    "import torch_geometric.transforms as T\n",
    "from torch_geometric.datasets import ShapeNet"
   ]
  },
  {
   "cell_type": "code",
   "execution_count": null,
   "metadata": {},
   "outputs": [],
   "source": [
    "dataset = ShapeNet(root='/tmp/ShapeNet', categories=['Airplane'])\n",
    "# No longer available, need to download from \n",
    "# https://www.kaggle.com/datasets/mitkir/shapenet/download?datasetVersionNumber=1\n",
    "print(f'Size                : {len(dataset)}')\n",
    "print(f'# of classes        : {dataset.num_classes}')\n",
    "print(f'# of node features  : {dataset.num_node_features}')\n",
    "print(f'# of edge attributes: {dataset.num_edge_features}')\n",
    "dataset.print_summary()"
   ]
  },
  {
   "cell_type": "code",
   "execution_count": null,
   "metadata": {},
   "outputs": [],
   "source": [
    "dataset = ShapeNet(root='/tmp/ShapeNet', categories=['Airplane'],\n",
    "                    pre_transform=T.KNNGraph(k=6))\n",
    "\n",
    "print(f'Size                : {len(dataset)}')\n",
    "print(f'# of classes        : {dataset.num_classes}')\n",
    "print(f'# of node features  : {dataset.num_node_features}')\n",
    "print(f'# of edge attributes: {dataset.num_edge_features}')\n",
    "dataset.print_summary()\n"
   ]
  },
  {
   "cell_type": "code",
   "execution_count": null,
   "metadata": {},
   "outputs": [],
   "source": [
    "dataset[0]"
   ]
  }
 ],
 "metadata": {
  "kernelspec": {
   "display_name": "venv",
   "language": "python",
   "name": "python3"
  },
  "language_info": {
   "codemirror_mode": {
    "name": "ipython",
    "version": 3
   },
   "file_extension": ".py",
   "mimetype": "text/x-python",
   "name": "python",
   "nbconvert_exporter": "python",
   "pygments_lexer": "ipython3",
   "version": "3.9.17"
  },
  "orig_nbformat": 4
 },
 "nbformat": 4,
 "nbformat_minor": 2
}
